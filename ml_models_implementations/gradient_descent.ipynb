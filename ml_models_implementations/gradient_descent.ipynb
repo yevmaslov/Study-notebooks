{
 "cells": [
  {
   "cell_type": "markdown",
   "metadata": {},
   "source": [
    "## Реализация градиентного спуска\n",
    "\n",
    "Реализуйте линейную регрессию с функцией потерь MSE, обучаемую с помощью:\n",
    "\n",
    "** Задание 1 (1 балл)** Градиентного спуска;\n",
    "\n",
    "** Задание 2 (1.5 балла)** Стохастического градиентного спуска;\n",
    "\n",
    "** Задание 3 (2.5 балла)** Метода Momentum.\n",
    "\n",
    "\n",
    "Во всех пунктах необходимо соблюдать следующие условия:\n",
    "\n",
    "* Все вычисления должны быть векторизованы;\n",
    "* Циклы средствами python допускается использовать только для итераций градиентного спуска;\n",
    "* В качестве критерия останова необходимо использовать (одновременно):\n",
    "\n",
    "    * проверку на евклидовую норму разности весов на двух соседних итерациях (например, меньше некоторого малого числа порядка $10^{-6}$, задаваемого параметром `tolerance`);\n",
    "    * достижение максимального числа итераций (например, 10000, задаваемого параметром `max_iter`).\n",
    "* Чтобы проследить, что оптимизационный процесс действительно сходится, будем использовать атрибут класса `loss_history` — в нём после вызова метода `fit` должны содержаться значения функции потерь для всех итераций, начиная с первой (до совершения первого шага по антиградиенту);\n",
    "* Инициализировать веса можно случайным образом или нулевым вектором. \n",
    "\n",
    "\n",
    "Ниже приведён шаблон класса, который должен содержать код реализации каждого из методов."
   ]
  },
  {
   "cell_type": "code",
   "execution_count": 1,
   "metadata": {},
   "outputs": [],
   "source": [
    "import numpy as np\n",
    "from sklearn.base import BaseEstimator\n",
    "from sklearn.datasets import make_regression\n",
    "import matplotlib.pyplot as plt\n",
    "import pandas as pd\n",
    "from sklearn.model_selection import train_test_split\n",
    "from sklearn.metrics import mean_squared_error"
   ]
  },
  {
   "cell_type": "code",
   "execution_count": null,
   "metadata": {},
   "outputs": [],
   "source": [
    "#                 for (X_batch, y_batch) in self.next_batch(X, y):   \n",
    "#                     w0_grad, w_grad = self.calc_gradient(X_batch, y_batch)\n",
    "                    \n",
    "# #                     self.w0 += self.eta * w0_grad\n",
    "# #                     self.w += self.eta * w_grad\n",
    "                    \n",
    "#                     w0_velocity = self.alpha * w0_velocity + self.eta * w0_grad\n",
    "#                     w_velocity = self.alpha * w_velocity + self.eta * w_grad\n",
    "#                     self.w0 += w0_velocity\n",
    "#                     self.w += w_velocity\n"
   ]
  },
  {
   "cell_type": "code",
   "execution_count": 143,
   "metadata": {},
   "outputs": [],
   "source": [
    "class LinearReg(BaseEstimator):\n",
    "    def __init__(self, gd_type='stochastic', \n",
    "                 tolerance=1e-6, max_iter=1000, w0=0, alpha=1e-3, eta=1e-2, random_state=1, batch_size=1):\n",
    "        \"\"\"\n",
    "        gd_type: 'full' or 'stochastic' or 'momentum'\n",
    "        tolerance: for stopping gradient descent\n",
    "        max_iter: maximum number of steps in gradient descent\n",
    "        w0: np.array of shape (d) - init weights\n",
    "        eta: learning rate\n",
    "        alpha: momentum coefficient\n",
    "        \"\"\"\n",
    "        self.gd_type = gd_type\n",
    "        self.tolerance = tolerance\n",
    "        self.max_iter = max_iter\n",
    "        self.w0 = w0\n",
    "        self.alpha = alpha\n",
    "        self.w = None\n",
    "        self.eta = eta\n",
    "        self.loss_history = [] # list of loss function values at each training iteration\n",
    "        \n",
    "        self.random_state = random_state\n",
    "        self.batch_size = batch_size\n",
    "    \n",
    "    def fit(self, X, y):\n",
    "        \"\"\"\n",
    "        X: np.array of shape (ell, d)\n",
    "        y: np.array of shape (ell)\n",
    "        ---\n",
    "        output: self\n",
    "        \"\"\"\n",
    "        rgen = np.random.RandomState(self.random_state)\n",
    "        self.w = rgen.normal(loc=0, scale=0.1, size=X.shape[1])\n",
    "        self.loss_history.append(self.calc_loss(X, y))\n",
    "        \n",
    "        \n",
    "        if self.gd_type == 'full':\n",
    "            for i in range(self.max_iter):\n",
    "                w0_grad, w_grad = self.calc_gradient(X, y)\n",
    "\n",
    "                self.w0 += self.eta * w0_grad\n",
    "                self.w += self.eta * w_grad\n",
    "                self.loss_history.append(self.calc_loss(X, y))\n",
    "                \n",
    "                if np.abs(self.loss_history[-1] - self.loss_history[-2]) < self.tolerance:\n",
    "                    break\n",
    "        \n",
    "        elif self.gd_type == 'stochastic':\n",
    "            for i in range(self.max_iter):\n",
    "                \n",
    "#                 for (X_batch, y_batch) in self.next_batch(X, y):   \n",
    "#                     w0_grad, w_grad = self.calc_gradient(X_batch, y_batch)\n",
    "#                     self.w0 += self.eta * w0_grad\n",
    "#                     self.w += self.eta * w_grad\n",
    "                \n",
    "                index = np.random.randint(0, X.shape[0], size=self.batch_size)\n",
    "\n",
    "                w0_grad, w_grad = self.calc_gradient(X[index], y[index])\n",
    "                self.w0 += self.eta * w0_grad\n",
    "                self.w += self.eta * w_grad\n",
    "                \n",
    "                self.loss_history.append(self.calc_loss(X, y))\n",
    "\n",
    "                if np.abs(self.loss_history[-1] - self.loss_history[-2]) < self.tolerance:\n",
    "                    break\n",
    "        \n",
    "        \n",
    "        elif self.gd_type == 'momentum':\n",
    "            for i in range(self.max_iter):\n",
    "                \n",
    "                index = np.random.randint(0, X.shape[0], size=self.batch_size)\n",
    "                w0_grad, w_grad = self.calc_gradient(X[index], y[index])\n",
    "\n",
    "                if i == 0:\n",
    "                    w0_velocity = 0\n",
    "                    w_velocity = np.zeros_like(self.w)               \n",
    "                \n",
    "                w0_velocity = self.alpha * w0_velocity + self.eta * w0_grad\n",
    "                w_velocity = self.alpha * w_velocity + self.eta * w_grad\n",
    "                self.w0 += w0_velocity\n",
    "                self.w += w_velocity\n",
    "                \n",
    "                self.loss_history.append(self.calc_loss(X, y))\n",
    "\n",
    "                if np.abs(self.loss_history[-1] - self.loss_history[-2]) < self.tolerance:\n",
    "                    break\n",
    "            \n",
    "        return self\n",
    "    \n",
    "    def predict(self, X):\n",
    "        if self.w is None:\n",
    "            raise Exception('Not trained yet')\n",
    "        \n",
    "        predict = np.dot(X, self.w) + self.w0\n",
    "        return predict\n",
    "    \n",
    "    def calc_gradient(self, X, y):\n",
    "        \"\"\"\n",
    "        X: np.array of shape (ell, d) (ell can be equal to 1 if stochastic)\n",
    "        y: np.array of shape (ell)\n",
    "        ---\n",
    "        output: np.array of shape (d)\n",
    "        \"\"\"\n",
    "        #╰( ͡° ͜ʖ ͡° )つ──☆*:・ﾟ\n",
    "        \n",
    "        predictions = self.predict(X)\n",
    "        error = (y - predictions)\n",
    "        \n",
    "        w0_grad = error.sum() / X.shape[0]\n",
    "        w_grad = X.T.dot(error) / X.shape[0]\n",
    "        \n",
    "        return w0_grad, w_grad\n",
    "\n",
    "    def calc_loss(self, X, y):\n",
    "        \"\"\"\n",
    "        X: np.array of shape (ell, d)\n",
    "        y: np.array of shape (ell)\n",
    "        ---\n",
    "        output: float \n",
    "        \"\"\" \n",
    "        \n",
    "        predictions = self.predict(X)\n",
    "        return np.sum(np.square(y-predictions))/y.shape[0]\n",
    "    \n",
    "    def next_batch(self, X, y):\n",
    "        for i in np.arange(0, X.shape[0], self.batch_size):\n",
    "            yield (X[i:i + self.batch_size], y[i:i + self.batch_size])"
   ]
  },
  {
   "cell_type": "code",
   "execution_count": 156,
   "metadata": {},
   "outputs": [
    {
     "data": {
      "text/plain": [
       "<matplotlib.legend.Legend at 0x141cd200308>"
      ]
     },
     "execution_count": 156,
     "metadata": {},
     "output_type": "execute_result"
    },
    {
     "data": {
      "image/png": "[encoded data removed]",
      "text/plain": [
       "<Figure size 1080x576 with 2 Axes>"
      ]
     },
     "metadata": {
      "needs_background": "light"
     },
     "output_type": "display_data"
    }
   ],
   "source": [
    "def make_dataset(n_features, n_informative, test_size=None, random_state=1):\n",
    "    \n",
    "    n_redundant = n_features - n_informative\n",
    "\n",
    "    data = make_regression(n_features=n_features,\n",
    "                           n_informative=n_informative,\n",
    "                           noise=100.0,\n",
    "                           random_state=random_state)\n",
    "    \n",
    "    x_train = data[0]\n",
    "    y_train = data[1]\n",
    "    if test_size:\n",
    "        if test_size < 0 or test_size > 1: raise Exception('Invalid test size')\n",
    "            \n",
    "        n = int(x_train.shape[0] * test_size)\n",
    "        x_val, y_val = x_train[:n], y_train[:n]\n",
    "        x_train, y_train = x_train[n:], y_train[n:]\n",
    "        return (x_train, y_train), (x_val, y_val)\n",
    "    \n",
    "    return (x_train, y_train)\n",
    "\n",
    "train, target = make_dataset(n_features=1, n_informative=1, random_state=1)\n",
    "\n",
    "model = LinearReg(gd_type='stochastic')\n",
    "target = np.array(target)\n",
    "model.fit(train, target)\n",
    "\n",
    "\n",
    "x = np.arange(-3, 4)\n",
    "y = x*model.w + model.w0\n",
    "\n",
    "epochs = []\n",
    "losses = []\n",
    "val_losses = []\n",
    "for epoch, loss in enumerate(model.loss_history):\n",
    "    epochs.append(epoch)\n",
    "    losses.append(loss)\n",
    "\n",
    "\n",
    "fig, axes = plt.subplots(nrows=1, ncols=2, figsize=(15, 8))\n",
    "\n",
    "axes[0].scatter(train.reshape(target.shape), target, label='original data')\n",
    "axes[0].plot(x, y, color='r', label='regression model')\n",
    "axes[0].grid()\n",
    "axes[0].legend()\n",
    "\n",
    "axes[1].set_title('Train and validation losses')\n",
    "axes[1].plot(epochs, losses, label='train loss')\n",
    "axes[1].grid()\n",
    "axes[1].set_xlabel('epoch')\n",
    "axes[1].set_ylabel('loss')\n",
    "axes[1].legend()"
   ]
  },
  {
   "cell_type": "markdown",
   "metadata": {},
   "source": [
    "** Задание 4 (0 баллов)**. \n",
    "* Загрузите данные из домашнего задания 2 ([train.csv](https://www.kaggle.com/c/nyc-taxi-trip-duration/data));\n",
    "* Разбейте выборку на обучающую и тестовую в отношении 7:3 с random_seed=0;\n",
    "* Преобразуйте целевую переменную `trip_duration` как $\\hat{y} = \\log{(y + 1)}$."
   ]
  },
  {
   "cell_type": "code",
   "execution_count": 55,
   "metadata": {},
   "outputs": [],
   "source": [
    "data = pd.read_csv('data/practice2/train.csv')\n",
    "data['log_trip_duration'] = np.log(data['trip_duration'] + 1)\n",
    "data.drop(['id', 'pickup_datetime', 'dropoff_datetime', 'store_and_fwd_flag'], axis=1, inplace=True)\n",
    "x_train, x_test, y_train, y_test = train_test_split(data.drop(['log_trip_duration', 'trip_duration'], axis=1),\n",
    "                                                    data['log_trip_duration'],\n",
    "                                                    test_size=0.3,\n",
    "                                                    random_state=0)"
   ]
  },
  {
   "cell_type": "markdown",
   "metadata": {},
   "source": [
    "** Задание 5 (3 балла)**. Обучите и провалидируйте модели на данных из предыдущего пункта, сравните качество между методами по метрикам MSE и $R^2$. Исследуйте влияние параметров `max_iter` и `eta` (`max_iter`, `alpha` и `eta` для Momentum) на процесс оптимизации. Согласуется ли оно с вашими ожиданиями?"
   ]
  },
  {
   "cell_type": "code",
   "execution_count": 130,
   "metadata": {},
   "outputs": [
    {
     "data": {
      "text/plain": [
       "LinearReg(eta=1e-05, gd_type='full', w0=0.0015811020531617162)"
      ]
     },
     "execution_count": 130,
     "metadata": {},
     "output_type": "execute_result"
    }
   ],
   "source": [
    "#╰( ͡° ͜ʖ ͡° )つ──☆*:・ﾟ\n",
    "from sklearn.preprocessing import StandardScaler\n",
    "\n",
    "# scaler = StandardScaler()\n",
    "# x_train = scaler.fit_transform(x_train)\n",
    "# x_test = scaler.transform(x_test)\n",
    "\n",
    "x_train = np.array(x_train)\n",
    "y_train = np.array(y_train)"
   ]
  },
  {
   "cell_type": "code",
   "execution_count": 164,
   "metadata": {},
   "outputs": [
    {
     "name": "stdout",
     "output_type": "stream",
     "text": [
      "0.6397234778025302\n"
     ]
    },
    {
     "data": {
      "image/png": "[encoded data removed]",
      "text/plain": [
       "<Figure size 432x288 with 1 Axes>"
      ]
     },
     "metadata": {
      "needs_background": "light"
     },
     "output_type": "display_data"
    }
   ],
   "source": [
    "model_full = LinearReg(gd_type='full', eta=0.00001, max_iter=1000)\n",
    "model_full.fit(x_train, y_train)\n",
    "plt.plot(range(len(model_full.loss_history)), model_full.loss_history)\n",
    "pred = model_full.predict(x_test)\n",
    "print(mean_squared_error(y_test, pred))"
   ]
  },
  {
   "cell_type": "code",
   "execution_count": 165,
   "metadata": {},
   "outputs": [
    {
     "name": "stdout",
     "output_type": "stream",
     "text": [
      "0.6425150388124716\n"
     ]
    },
    {
     "data": {
      "image/png": "[encoded data removed]",
      "text/plain": [
       "<Figure size 432x288 with 1 Axes>"
      ]
     },
     "metadata": {
      "needs_background": "light"
     },
     "output_type": "display_data"
    }
   ],
   "source": [
    "model_stochastic = LinearReg(gd_type='stochastic', eta=0.00001, max_iter=200)\n",
    "model_stochastic.fit(x_train, y_train)\n",
    "\n",
    "plt.plot(range(len(model_stochastic.loss_history)), model_stochastic.loss_history)\n",
    "pred = model_stochastic.predict(x_test)\n",
    "print(mean_squared_error(y_test, pred))"
   ]
  },
  {
   "cell_type": "code",
   "execution_count": 166,
   "metadata": {},
   "outputs": [
    {
     "name": "stdout",
     "output_type": "stream",
     "text": [
      "0.6514924141106471\n"
     ]
    },
    {
     "data": {
      "image/png": "[encoded data removed]",
      "text/plain": [
       "<Figure size 432x288 with 1 Axes>"
      ]
     },
     "metadata": {
      "needs_background": "light"
     },
     "output_type": "display_data"
    }
   ],
   "source": [
    "model_momentum = LinearReg(gd_type='momentum', eta=0.00001, max_iter=200)\n",
    "model_momentum.fit(x_train, y_train)\n",
    "\n",
    "plt.plot(range(len(model_momentum.loss_history)), model_momentum.loss_history)\n",
    "pred = model_momentum.predict(x_test)\n",
    "print(mean_squared_error(y_test, pred))"
   ]
  },
  {
   "cell_type": "code",
   "execution_count": 157,
   "metadata": {},
   "outputs": [
    {
     "data": {
      "text/plain": [
       "0.601890569100352"
      ]
     },
     "execution_count": 157,
     "metadata": {},
     "output_type": "execute_result"
    }
   ],
   "source": [
    "from sklearn.linear_model import LinearRegression\n",
    "model = LinearRegression()\n",
    "model.fit(x_train, y_train)\n",
    "\n",
    "pred = model.predict(x_test)\n",
    "mean_squared_error(y_test, pred)"
   ]
  },
  {
   "cell_type": "markdown",
   "metadata": {},
   "source": [
    "** Задание 6 (2 балла)**. Постройте графики (на одной и той же картинке) зависимости величины функции потерь от номера итерации для полного, стохастического градиентного спусков, а также для полного градиентного спуска с методом Momentum. Сделайте выводы о скорости сходимости различных модификаций градиентного спуска.\n",
    "\n",
    "Не забывайте о том, что должны получиться *красивые* графики!"
   ]
  },
  {
   "cell_type": "markdown",
   "metadata": {},
   "source": [
    "### Бонус "
   ]
  },
  {
   "cell_type": "markdown",
   "metadata": {},
   "source": [
    "** Задание 7 (2 балла)**. Реализуйте линейную регрессию с функцией потерь MSE, обучаемую с помощью метода\n",
    "[Adam](https://arxiv.org/pdf/1412.6980.pdf) - добавьте при необходимости параметры в класс модели, повторите пункты 5 и 6 и сравните результаты. "
   ]
  },
  {
   "cell_type": "markdown",
   "metadata": {},
   "source": [
    "** Задание 8 (2 балла)**. Реализуйте линейную регрессию с функцией потерь\n",
    "$$ L(\\hat{y}, y) = log(cosh(\\hat{y} - y)),$$\n",
    "\n",
    "обучаемую с помощью градиентного спуска."
   ]
  },
  {
   "cell_type": "markdown",
   "metadata": {},
   "source": [
    "** Задание 9 (0.01 балла)**.  Вставьте картинку с вашим любимым мемом в этот Jupyter Notebook"
   ]
  }
 ],
 "metadata": {
  "kernelspec": {
   "display_name": "Python 3",
   "language": "python",
   "name": "python3"
  },
  "language_info": {
   "codemirror_mode": {
    "name": "ipython",
    "version": 3
   },
   "file_extension": ".py",
   "mimetype": "text/x-python",
   "name": "python",
   "nbconvert_exporter": "python",
   "pygments_lexer": "ipython3",
   "version": "3.7.9"
  }
 },
 "nbformat": 4,
 "nbformat_minor": 2
}
